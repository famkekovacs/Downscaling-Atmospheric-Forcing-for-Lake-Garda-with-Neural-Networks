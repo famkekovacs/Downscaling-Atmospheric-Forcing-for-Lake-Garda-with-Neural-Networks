{
 "cells": [
  {
   "cell_type": "markdown",
   "id": "217c6f6f-5a17-484f-81ad-88fd417c2cbf",
   "metadata": {
    "tags": []
   },
   "source": [
    "# Data prep more  time wind\n",
    "This is a notebook to read in raw datasets and transform them into datasets for a neural network. Only 10m above surface wind. <br>\n",
    "Steps done:<br>\n",
    "\n",
    "    - Interpolating WRF parts to same grid and extent\n",
    "    - Interpolating NCEP to WRF 3km grid\n",
    "    - Coarsening WRF 9km back to its original grid from the 3km grid\n",
    "    - Coarsening NCEP to an 18km grid from the 3km grid\n",
    "    - Writing data to .tfrecord files\n",
    "    - Future Test same steps as before"
   ]
  },
  {
   "cell_type": "code",
   "execution_count": 1,
   "id": "b68aea44-b725-48b6-a433-17e786147eba",
   "metadata": {},
   "outputs": [
    {
     "name": "stdout",
     "output_type": "stream",
     "text": [
      "2.8.0\n",
      "True\n"
     ]
    }
   ],
   "source": [
    "# data\n",
    "import netCDF4 as nc\n",
    "import numpy as np\n",
    "\n",
    "import pandas as pd\n",
    "\n",
    "# models \n",
    "import tensorflow as tf\n",
    "print(tf.__version__)\n",
    "\n",
    "tf.compat.v1.enable_eager_execution()\n",
    "\n",
    "# must be True\n",
    "print(tf.executing_eagerly())\n",
    "\n",
    "# plotting\n",
    "import matplotlib.pyplot as plt\n",
    "import seaborn as sns\n",
    "\n",
    "import os\n",
    "\n",
    "import helper_functions as hf\n",
    "from skimage.metrics import structural_similarity as ssim\n",
    "\n",
    "import importlib as imp"
   ]
  },
  {
   "cell_type": "markdown",
   "id": "55c905ce-722e-426a-bef4-75d88e25c43b",
   "metadata": {},
   "source": [
    "Module helper_functions contains self-made and are kept there to make this document more readable. To reload the module after changes to any of its functions use the imp.reload(hf) function below."
   ]
  },
  {
   "cell_type": "code",
   "execution_count": 2,
   "id": "b5957ef0-cb88-49d8-815e-e6a4a4c97964",
   "metadata": {},
   "outputs": [
    {
     "data": {
      "text/plain": [
       "<module 'helper_functions' from 'E:\\\\Universiteit\\\\Jaar_6\\\\Master_Thesis_Part_2\\\\Sebastian_modified_software\\\\helper_functions.py'>"
      ]
     },
     "execution_count": 2,
     "metadata": {},
     "output_type": "execute_result"
    }
   ],
   "source": [
    "imp.reload(hf)"
   ]
  },
  {
   "cell_type": "markdown",
   "id": "fd3b94eb-78b3-4dfe-9981-57f33a56b916",
   "metadata": {
    "tags": []
   },
   "source": [
    "### Reading in the datasets"
   ]
  },
  {
   "cell_type": "markdown",
   "id": "d50f2d1d-8a18-42b9-a4c1-ebcb19a9d6ec",
   "metadata": {
    "tags": []
   },
   "source": [
    "#### WRF 9 KM"
   ]
  },
  {
   "cell_type": "code",
   "execution_count": 3,
   "id": "08d6416a-6cf2-4972-9fa3-9d5cfe2bb89d",
   "metadata": {},
   "outputs": [],
   "source": [
    "# coordinates\n",
    "\n",
    "c1 = nc.Dataset('F:/Master_Thesis/Data/WRF data/More_time_runs/LAT_Garda_d01_part1.nc')\n",
    "c2 = nc.Dataset('F:/Master_Thesis/Data/WRF data/More_time_runs/LON_Garda_d01_part1.nc')\n",
    "\n",
    "c3 = nc.Dataset('F:/Master_Thesis/Data/WRF data/More_time_runs/LAT_Garda_d01_part2.nc')\n",
    "c4 = nc.Dataset('F:/Master_Thesis/Data/WRF data/More_time_runs/LON_Garda_d01_part2.nc')\n",
    "\n",
    "lat_WRF_9km_part1 = np.array(c1['XLAT'][0])\n",
    "lon_WRF_9km_part1 = np.array(c2['XLONG'][0])\n",
    "\n",
    "lat_WRF_9km_part2 = np.array(c3['XLAT'][0])\n",
    "lon_WRF_9km_part2 = np.array(c4['XLONG'][0])"
   ]
  },
  {
   "cell_type": "code",
   "execution_count": 4,
   "id": "526982f6-a264-4ce7-94d9-5f127732b639",
   "metadata": {},
   "outputs": [],
   "source": [
    "# data\n",
    "ds1 = nc.Dataset('F:/Master_Thesis/Data/WRF data/More_time_runs/U10_Garda_d01_part1.nc')\n",
    "ds2 = nc.Dataset('F:/Master_Thesis/Data/WRF data/More_time_runs/U10_Garda_d01_part2.nc')\n",
    "\n",
    "ds3 = nc.Dataset('F:/Master_Thesis/Data/WRF data/More_time_runs/V10_Garda_d01_part1.nc')\n",
    "ds4 = nc.Dataset('F:/Master_Thesis/Data/WRF data/More_time_runs/V10_Garda_d01_part2.nc')\n",
    "\n",
    "# u-component of wind\n",
    "U_WRF_9km_part1 = np.array(ds1['U10'])\n",
    "U_WRF_9km_part2 = np.array(ds2['U10'])\n",
    "\n",
    "# v-component of wind\n",
    "V_WRF_9km_part1 = np.array(ds3['V10'])\n",
    "V_WRF_9km_part2 = np.array(ds4['V10'])"
   ]
  },
  {
   "cell_type": "code",
   "execution_count": 5,
   "id": "0290bfd2-a946-4e57-be96-83b5fd5a8da8",
   "metadata": {},
   "outputs": [
    {
     "data": {
      "text/plain": [
       "((1552, 31, 26), (13064, 31, 26))"
      ]
     },
     "execution_count": 5,
     "metadata": {},
     "output_type": "execute_result"
    }
   ],
   "source": [
    "U_WRF_9km_part1.shape, U_WRF_9km_part2.shape #(1552, 31, 26)"
   ]
  },
  {
   "cell_type": "markdown",
   "id": "170f4779-bb55-4001-98b3-fbaf372a7c9f",
   "metadata": {
    "tags": []
   },
   "source": [
    "#### WRF 3 km"
   ]
  },
  {
   "cell_type": "code",
   "execution_count": 6,
   "id": "fe0c0646-4c8d-446c-a58b-5adbbb602137",
   "metadata": {},
   "outputs": [
    {
     "name": "stdout",
     "output_type": "stream",
     "text": [
      "(31, 31)\n"
     ]
    }
   ],
   "source": [
    "c5 = nc.Dataset('F:/Master_Thesis/Data/WRF data/More_time_runs/LAT_Garda_d02_part1.nc')\n",
    "c6 = nc.Dataset('F:/Master_Thesis/Data/WRF data/More_time_runs/LON_Garda_d02_part1.nc')\n",
    "\n",
    "c7 = nc.Dataset('F:/Master_Thesis/Data/WRF data/More_time_runs/LAT_Garda_d02_part2.nc')\n",
    "c8 = nc.Dataset('F:/Master_Thesis/Data/WRF data/More_time_runs/LON_Garda_d02_part2.nc')\n",
    "\n",
    "lat_WRF_3km_part1 = np.array(c5['XLAT'][0])[:,0:96]\n",
    "lon_WRF_3km_part1 = np.array(c6['XLONG'][0])[:,0:96]\n",
    "\n",
    "lat_WRF_3km_part2 = np.array(c7['XLAT'][0])\n",
    "lon_WRF_3km_part2 = np.array(c8['XLONG'][0])\n",
    "\n",
    "print(lon_WRF_3km_part1.shape)"
   ]
  },
  {
   "cell_type": "code",
   "execution_count": 7,
   "id": "fe27a7df-e7b2-4131-88cd-012cb31c9f4d",
   "metadata": {},
   "outputs": [
    {
     "data": {
      "text/plain": [
       "((1544, 31, 31), (13072, 31, 31))"
      ]
     },
     "execution_count": 7,
     "metadata": {},
     "output_type": "execute_result"
    }
   ],
   "source": [
    "# data\n",
    "ds5 = nc.Dataset('F:/Master_Thesis/Data/WRF data/More_time_runs/U10_Garda_d02_part1.nc')\n",
    "ds6 = nc.Dataset('F:/Master_Thesis/Data/WRF data/More_time_runs/U10_Garda_d02_part2.nc')\n",
    "\n",
    "ds7 = nc.Dataset('F:/Master_Thesis/Data/WRF data/More_time_runs/V10_Garda_d02_part1.nc')\n",
    "ds8 = nc.Dataset('F:/Master_Thesis/Data/WRF data/More_time_runs/V10_Garda_d02_part2.nc')\n",
    "\n",
    "# u-component of wind\n",
    "U_WRF_3km_part1 = np.array(ds5['U10'])[:,:,0:96]\n",
    "U_WRF_3km_part2 = np.array(ds6['U10'])\n",
    "\n",
    "# v-component of wind\n",
    "V_WRF_3km_part1 = np.array(ds7['V10'])[:,:,0:96]\n",
    "V_WRF_3km_part2 = np.array(ds8['V10'])\n",
    "\n",
    "U_WRF_3km_part1.shape, U_WRF_3km_part2.shape"
   ]
  },
  {
   "cell_type": "markdown",
   "id": "9a9df73a-6900-4753-9134-f29fca073cff",
   "metadata": {},
   "source": [
    "#### WRF Test data"
   ]
  },
  {
   "cell_type": "code",
   "execution_count": 8,
   "id": "429da2ff",
   "metadata": {},
   "outputs": [
    {
     "name": "stdout",
     "output_type": "stream",
     "text": [
      "(2920, 31, 31) (2920, 31, 26)\n",
      "(10144, 31, 31) (10136, 31, 26)\n"
     ]
    }
   ],
   "source": [
    "#Test 2021\n",
    "\n",
    "#9km\n",
    "U_WRF_9km_2021 = U_WRF_9km_part2[10136:13056,:,:] #8 indices to much, because 5 years should have 14608 (1 year = 2920 indices)\n",
    "V_WRF_9km_2021 = V_WRF_9km_part2[10136:13056,:,:]\n",
    "\n",
    "#3km\n",
    "U_WRF_3km_2021 = U_WRF_3km_part2[10144:13064,:,:] #other indices because part 2 of d02 is not the same as d01\n",
    "V_WRF_3km_2021 = V_WRF_3km_part2[10144:13064,:,:]\n",
    "\n",
    "print(U_WRF_3km_2021.shape, U_WRF_9km_2021.shape)\n",
    "\n",
    "#Train part2\n",
    "\n",
    "#9km\n",
    "U_WRF_9km_part2_train = U_WRF_9km_part2[0:10136,:,:]\n",
    "V_WRF_9km_part2_train = V_WRF_9km_part2[0:10136,:,:]\n",
    "\n",
    "#3km\n",
    "U_WRF_3km_part2_train = U_WRF_3km_part2[0:10144,:,:]\n",
    "V_WRF_3km_part2_train = V_WRF_3km_part2[0:10144,:,:]\n",
    "\n",
    "\n",
    "print(U_WRF_3km_part2_train.shape, U_WRF_9km_part2_train.shape)\n"
   ]
  },
  {
   "cell_type": "markdown",
   "id": "07dc9f97-7fa9-4cc1-8afe-2d213d39203f",
   "metadata": {
    "tags": []
   },
   "source": [
    "#### NCEP GFS dataset"
   ]
  },
  {
   "cell_type": "code",
   "execution_count": 9,
   "id": "d4a47590-b280-40c7-83bb-e061150c397c",
   "metadata": {},
   "outputs": [
    {
     "name": "stdout",
     "output_type": "stream",
     "text": [
      "(14614, 17, 25)\n",
      "[ 8.    8.25  8.5   8.75  9.    9.25  9.5   9.75 10.   10.25 10.5  10.75\n",
      " 11.   11.25 11.5  11.75 12.   12.25 12.5  12.75 13.   13.25 13.5  13.75\n",
      " 14.  ]\n"
     ]
    },
    {
     "data": {
      "text/plain": [
       "array([    0,     3,     6, ..., 43839, 43842, 43845], dtype=int64)"
      ]
     },
     "execution_count": 9,
     "metadata": {},
     "output_type": "execute_result"
    }
   ],
   "source": [
    "#data\n",
    "ds_wind_NCEP = nc.Dataset('F:/Master_Thesis/Data/NCEP data/More_Training_data/U10_V10/NCEP_U10_V10_2017_2021.nc')\n",
    "U_NCEP = ds_wind_NCEP['U_GRD_L103']\n",
    "V_NCEP = ds_wind_NCEP['V_GRD_L103']\n",
    "\n",
    "\n",
    "#coordinates\n",
    "lat_NCEP = np.array(ds_wind_NCEP['lat'])\n",
    "lon_NCEP = np.array(ds_wind_NCEP['lon'])\n",
    "\n",
    "print(U_NCEP.shape)\n",
    "print(lon_NCEP)\n",
    "np.array(ds_wind_NCEP['time'])\n"
   ]
  },
  {
   "cell_type": "code",
   "execution_count": 10,
   "id": "aa108301-2a08-4e09-aef4-d4586aaedeb9",
   "metadata": {},
   "outputs": [
    {
     "data": {
      "text/plain": [
       "(17, 25)"
      ]
     },
     "execution_count": 10,
     "metadata": {},
     "output_type": "execute_result"
    }
   ],
   "source": [
    "if(len(lat_NCEP.shape)==1):\n",
    "    lon_NCEP, lat_NCEP = np.meshgrid(lon_NCEP, lat_NCEP)\n",
    "\n",
    "lon_NCEP.shape"
   ]
  },
  {
   "cell_type": "markdown",
   "id": "a7d7f8b9-219d-40f6-9d3f-6f3fc2a32a8e",
   "metadata": {},
   "source": [
    "NCEP test"
   ]
  },
  {
   "cell_type": "code",
   "execution_count": 11,
   "id": "6695ffd6-3893-427f-86f4-79343fd48325",
   "metadata": {},
   "outputs": [
    {
     "data": {
      "text/plain": [
       "((11688, 17, 25), (2920, 17, 25))"
      ]
     },
     "execution_count": 11,
     "metadata": {},
     "output_type": "execute_result"
    }
   ],
   "source": [
    "#test 2021\n",
    "U_NCEP_2021 = U_NCEP[11688:14608,:,:]\n",
    "V_NCEP_2021 = V_NCEP[11688:14608,:,:]\n",
    "\n",
    "#train 2017-2020\n",
    "U_NCEP_train = U_NCEP[0:11688,:,:]\n",
    "V_NCEP_train = V_NCEP[0:11688,:,:]\n",
    "\n",
    "U_NCEP_train.shape, U_NCEP_2021.shape\n"
   ]
  },
  {
   "cell_type": "markdown",
   "id": "c58f3866-7953-4459-948a-ae8cd2e23aa3",
   "metadata": {
    "jp-MarkdownHeadingCollapsed": true,
    "tags": []
   },
   "source": [
    "#### Time\n",
    "\n",
    "For time data I used a season index using the following short algorithm. Time and elevation data was not used in the final model since to use any metadata in this model one would need to stack the data.  Stacking different variables does require min-max normalisation to have the different variables on the same scale. But this resulted in low performance since the final produced superresolutions are on a different scale."
   ]
  },
  {
   "cell_type": "code",
   "execution_count": 13,
   "id": "f8640986-3e34-49e1-bcdf-a6d4b9429725",
   "metadata": {},
   "outputs": [
    {
     "data": {
      "image/png": "[encoded data removed]",
      "text/plain": [
       "<Figure size 432x288 with 1 Axes>"
      ]
     },
     "metadata": {
      "needs_background": "light"
     },
     "output_type": "display_data"
    }
   ],
   "source": [
    "import math as m\n",
    "\n",
    "time = []\n",
    "\n",
    "for t in range(14608):\n",
    "    time.append(m.sin(m.pi*t/2920)**2)\n",
    "    \n",
    "plt.plot(time)\n",
    "plt.show()"
   ]
  },
  {
   "cell_type": "code",
   "execution_count": 14,
   "id": "0acf0d11-874a-4828-a27a-16030bd199e9",
   "metadata": {},
   "outputs": [
    {
     "data": {
      "text/plain": [
       "(14608, 96, 96)"
      ]
     },
     "execution_count": 14,
     "metadata": {},
     "output_type": "execute_result"
    }
   ],
   "source": [
    "time_arr = np.zeros((14608,96,96),dtype='float32')\n",
    "for t in range(time_arr.shape[0]):\n",
    "    time_arr[t,:,:] = time[t]\n",
    "\n",
    "time_arr.shape"
   ]
  },
  {
   "cell_type": "markdown",
   "id": "1a6b102c-277b-4b58-aafd-506769595306",
   "metadata": {
    "tags": []
   },
   "source": [
    "### Interpolating to same extent\n",
    "\n",
    "This is done by changing longitude and latitude coordinates of the datasets to a cartesian grid and using nearest neighbor interpolation to get all data on the same grid (WRF 3km)."
   ]
  },
  {
   "cell_type": "code",
   "execution_count": 15,
   "id": "c1b146ad-63a1-4009-8139-f727149b4357",
   "metadata": {},
   "outputs": [],
   "source": [
    "# target cartesian coordinates\n",
    "xt, yt, zt = hf.lon_lat_to_cartesian(lon_WRF_3km_part1.flatten(), lat_WRF_3km_part1.flatten())"
   ]
  },
  {
   "cell_type": "markdown",
   "id": "ce0f0590-6399-4ad8-858d-5c63303d2521",
   "metadata": {
    "tags": []
   },
   "source": [
    "#### WRF 9 km"
   ]
  },
  {
   "cell_type": "code",
   "execution_count": 16,
   "id": "1f2219ff-fc1d-4220-8fdc-6e71767225b5",
   "metadata": {},
   "outputs": [],
   "source": [
    "xs, ys, zs = hf.lon_lat_to_cartesian(lon_WRF_9km_part1.flatten(), lat_WRF_9km_part1.flatten())\n",
    "\n",
    "tree = hf.cKDTree(np.column_stack((xs, ys, zs)))"
   ]
  },
  {
   "cell_type": "code",
   "execution_count": 17,
   "id": "f2ceffbd-43fb-45f9-bc61-192c028f42f9",
   "metadata": {},
   "outputs": [],
   "source": [
    "# nearest neighbor\n",
    "d, inds = tree.query(np.column_stack((xt, yt, zt)), k = 1)\n",
    "\n",
    "U_WRF_9km_part1_near = hf.transform_extent(U_WRF_9km_part1, inds, lat_WRF_3km_part1.shape)\n",
    "V_WRF_9km_part1_near = hf.transform_extent(V_WRF_9km_part1, inds, lat_WRF_3km_part1.shape)"
   ]
  },
  {
   "cell_type": "code",
   "execution_count": 18,
   "id": "0056eba3-44c1-4f9c-96e4-8f294a3f2ad6",
   "metadata": {},
   "outputs": [],
   "source": [
    "xs, ys, zs = hf.lon_lat_to_cartesian(lon_WRF_9km_part2.flatten(), lat_WRF_9km_part2.flatten())\n",
    "\n",
    "tree = hf.cKDTree(np.column_stack((xs, ys, zs)))"
   ]
  },
  {
   "cell_type": "code",
   "execution_count": 19,
   "id": "fc0ff315-3fe8-4e0b-b4c4-84087e19c8e0",
   "metadata": {},
   "outputs": [],
   "source": [
    "# nearest neighbor\n",
    "d, inds = tree.query(np.column_stack((xt, yt, zt)), k = 1)\n",
    "\n",
    "U_WRF_9km_part2_near = hf.transform_extent(U_WRF_9km_part2_train, inds, lat_WRF_3km_part1.shape)\n",
    "V_WRF_9km_part2_near = hf.transform_extent(V_WRF_9km_part2_train, inds, lat_WRF_3km_part1.shape)"
   ]
  },
  {
   "cell_type": "markdown",
   "id": "7fc96f0c-51d3-4a81-8464-75a57d163916",
   "metadata": {},
   "source": [
    "Concatenating the two 9km WRF datasets to 1"
   ]
  },
  {
   "cell_type": "code",
   "execution_count": 20,
   "id": "cac85866-9e62-4606-9b1e-9d205fa8ac3c",
   "metadata": {},
   "outputs": [
    {
     "name": "stdout",
     "output_type": "stream",
     "text": [
      "(11688, 31, 31)\n"
     ]
    }
   ],
   "source": [
    "U_WRF_9km_train = np.concatenate((U_WRF_9km_part1_near, U_WRF_9km_part2_near))\n",
    "V_WRF_9km_train = np.concatenate((V_WRF_9km_part1_near, V_WRF_9km_part2_near))\n",
    "\n",
    "print(U_WRF_9km_train.shape)"
   ]
  },
  {
   "cell_type": "markdown",
   "id": "9609332d-6484-4871-8480-f3af4b4c9b20",
   "metadata": {},
   "source": [
    "Test data 9 km"
   ]
  },
  {
   "cell_type": "code",
   "execution_count": 21,
   "id": "de456abb-9462-4e46-92d8-c069e23acd7f",
   "metadata": {},
   "outputs": [
    {
     "data": {
      "text/plain": [
       "(2920, 31, 31)"
      ]
     },
     "execution_count": 21,
     "metadata": {},
     "output_type": "execute_result"
    }
   ],
   "source": [
    "U_WRF_9km_test = hf.transform_extent(U_WRF_9km_2021, inds, lat_WRF_3km_part1.shape)\n",
    "V_WRF_9km_test = hf.transform_extent(V_WRF_9km_2021, inds, lat_WRF_3km_part1.shape)\n",
    "\n",
    "U_WRF_9km_test.shape"
   ]
  },
  {
   "cell_type": "markdown",
   "id": "7f21d811-1a92-4bde-91dd-9bb3331fac6a",
   "metadata": {
    "tags": []
   },
   "source": [
    "#### WRF 3km"
   ]
  },
  {
   "cell_type": "code",
   "execution_count": 22,
   "id": "3fabbe24-6efa-4446-a1cd-5b9c97bb51b7",
   "metadata": {},
   "outputs": [],
   "source": [
    "xs, ys, zs = hf.lon_lat_to_cartesian(lon_WRF_3km_part2.flatten(), lat_WRF_3km_part2.flatten())\n",
    "\n",
    "tree = hf.cKDTree(np.column_stack((xs, ys, zs)))"
   ]
  },
  {
   "cell_type": "code",
   "execution_count": 23,
   "id": "38baaf28-668b-4d44-b316-16cc60251aa0",
   "metadata": {},
   "outputs": [],
   "source": [
    "# nearest neighbor\n",
    "d, inds = tree.query(np.column_stack((xt, yt, zt)), k = 1)\n",
    "\n",
    "U_WRF_3km_part2_near = hf.transform_extent(U_WRF_3km_part2_train, inds, lat_WRF_3km_part1.shape)\n",
    "V_WRF_3km_part2_near = hf.transform_extent(V_WRF_3km_part2_train, inds, lat_WRF_3km_part1.shape)"
   ]
  },
  {
   "cell_type": "markdown",
   "id": "5160b54e-422a-46b2-94e5-863642405410",
   "metadata": {},
   "source": [
    "Concatenating the two 3km WRF datasets to 1"
   ]
  },
  {
   "cell_type": "code",
   "execution_count": 24,
   "id": "2e6a3ca7-f55b-4ca8-909b-4c735be309f5",
   "metadata": {},
   "outputs": [],
   "source": [
    "U_WRF_3km = np.concatenate((U_WRF_3km_part1, U_WRF_3km_part2_near))\n",
    "V_WRF_3km = np.concatenate((V_WRF_3km_part1, V_WRF_3km_part2_near))"
   ]
  },
  {
   "cell_type": "markdown",
   "id": "a51b631c-e2ae-4e82-a475-cca3a476a359",
   "metadata": {},
   "source": [
    "Test data 3km"
   ]
  },
  {
   "cell_type": "code",
   "execution_count": 25,
   "id": "e11c25b1-35bf-4b33-9e8b-54b69a5ad205",
   "metadata": {},
   "outputs": [
    {
     "data": {
      "text/plain": [
       "(2920, 31, 31)"
      ]
     },
     "execution_count": 25,
     "metadata": {},
     "output_type": "execute_result"
    }
   ],
   "source": [
    "U_WRF_3km_test = hf.transform_extent(U_WRF_3km_2021, inds, lat_WRF_3km_part1.shape)\n",
    "V_WRF_3km_test = hf.transform_extent(V_WRF_3km_2021, inds, lat_WRF_3km_part1.shape)\n",
    "\n",
    "U_WRF_3km_test.shape"
   ]
  },
  {
   "cell_type": "markdown",
   "id": "20f1ecbe-5d9c-490f-97d9-1f1132a8d3ed",
   "metadata": {
    "tags": []
   },
   "source": [
    "#### NCEP"
   ]
  },
  {
   "cell_type": "code",
   "execution_count": 26,
   "id": "5b49bf26-85d7-4acb-a106-72f9fa11ccac",
   "metadata": {},
   "outputs": [],
   "source": [
    "xs, ys, zs = hf.lon_lat_to_cartesian(lon_NCEP.flatten(), lat_NCEP.flatten())\n",
    "\n",
    "tree = hf.cKDTree(np.column_stack((xs, ys, zs)))"
   ]
  },
  {
   "cell_type": "code",
   "execution_count": 27,
   "id": "5640351a-f484-4634-84b6-647dc8d54cee",
   "metadata": {
    "tags": []
   },
   "outputs": [],
   "source": [
    "# nearest neighbour\n",
    "d, inds = tree.query(np.column_stack((xt, yt, zt)), k = 1)\n",
    "\n",
    "U_NCEP_near = hf.transform_extent(U_NCEP_train, inds, lat_WRF_3km_part1.shape)[0:U_WRF_9km_train.shape[0]]\n",
    "V_NCEP_near = hf.transform_extent(V_NCEP_train, inds, lat_WRF_3km_part1.shape)[0:U_WRF_9km_train.shape[0]]\n"
   ]
  },
  {
   "cell_type": "markdown",
   "id": "8e6f748f-8ead-43c2-bf35-fc029bdb3496",
   "metadata": {},
   "source": [
    "NCEP test"
   ]
  },
  {
   "cell_type": "code",
   "execution_count": 28,
   "id": "f2194e54-1164-4fda-92ef-113dccafaa6c",
   "metadata": {},
   "outputs": [],
   "source": [
    "xs, ys, zs = hf.lon_lat_to_cartesian(lon_NCEP.flatten(), lat_NCEP.flatten())\n",
    "\n",
    "tree = hf.cKDTree(np.column_stack((xs, ys, zs)))"
   ]
  },
  {
   "cell_type": "code",
   "execution_count": 29,
   "id": "3a50b232-eeaa-41bb-86b4-40128d9c9d82",
   "metadata": {},
   "outputs": [],
   "source": [
    "# nearest neighbour\n",
    "d, inds = tree.query(np.column_stack((xt, yt, zt)), k = 1)\n",
    "\n",
    "U_NCEP_test_near = hf.transform_extent(U_NCEP_2021, inds, lat_WRF_3km_part1.shape)[0:U_WRF_9km_test.shape[0]]\n",
    "V_NCEP_test_near = hf.transform_extent(V_NCEP_2021, inds, lat_WRF_3km_part1.shape)[0:U_WRF_9km_test.shape[0]]"
   ]
  },
  {
   "cell_type": "code",
   "execution_count": 30,
   "id": "c8c630f0-a329-4d94-af9e-f54f57b19cd1",
   "metadata": {},
   "outputs": [
    {
     "data": {
      "text/plain": [
       "(2920, 31, 31)"
      ]
     },
     "execution_count": 30,
     "metadata": {},
     "output_type": "execute_result"
    }
   ],
   "source": [
    "U_NCEP_test_near.shape"
   ]
  },
  {
   "cell_type": "markdown",
   "id": "2b6d92cd-b539-464e-a476-bda1ab412bd3",
   "metadata": {},
   "source": [
    "#### Deleting raw datasets to save RAM space"
   ]
  },
  {
   "cell_type": "code",
   "execution_count": 31,
   "id": "a20f47fc-bbd4-4451-a604-a7bcfdf76782",
   "metadata": {},
   "outputs": [],
   "source": [
    "del c1\n",
    "del c2\n",
    "del c3\n",
    "del c4"
   ]
  },
  {
   "cell_type": "code",
   "execution_count": 32,
   "id": "e60508a1-84e2-4c73-bcdc-d521e2af97bc",
   "metadata": {},
   "outputs": [],
   "source": [
    "del ds1, ds2, ds3, ds4#, ds5, ds6"
   ]
  },
  {
   "cell_type": "code",
   "execution_count": 33,
   "id": "44df0b6c-ae1f-4f62-878a-3daa9c0605c5",
   "metadata": {},
   "outputs": [],
   "source": [
    "#del T_WRF_9km_part1, T_WRF_9km_part2\n",
    "del U_WRF_9km_part1, U_WRF_9km_part2\n",
    "del V_WRF_9km_part1, V_WRF_9km_part2"
   ]
  },
  {
   "cell_type": "code",
   "execution_count": 34,
   "id": "d4dbe571-f35c-4703-bc14-19192a72b6e4",
   "metadata": {},
   "outputs": [],
   "source": [
    "#del T_WRF_3km_part1, T_WRF_3km_part2\n",
    "del U_WRF_3km_part1, U_WRF_3km_part2\n",
    "del V_WRF_3km_part1, V_WRF_3km_part2"
   ]
  },
  {
   "cell_type": "code",
   "execution_count": 35,
   "id": "dc65edb9-e2e4-49e8-b29f-7b1171a4de61",
   "metadata": {},
   "outputs": [],
   "source": [
    "del xs, xt, ys, yt, zs, zt\n",
    "del d, inds"
   ]
  },
  {
   "cell_type": "markdown",
   "id": "a408ddb5-5ea3-48a2-926a-80f2a0595f9f",
   "metadata": {},
   "source": [
    "### Downscaling"
   ]
  },
  {
   "cell_type": "markdown",
   "id": "e63385ed-6ab9-4631-88f2-90cb75b5a518",
   "metadata": {},
   "source": [
    "Current model is doing downscaling by increasing the pixel count, so it wants a low pixel count image and increase the pixel count by an integer factor. For us the low resolution to medium resolution is 5x5 pixels to 10x10. And medium to high resolution is 10x10 to 30x30 (or 31x31). "
   ]
  },
  {
   "cell_type": "code",
   "execution_count": 36,
   "id": "0ab099e0-8acd-4c4d-a8a4-c2de03524725",
   "metadata": {},
   "outputs": [
    {
     "data": {
      "text/plain": [
       "((11688, 10, 10, 1), (11688, 5, 5, 1), (2920, 5, 5, 1))"
      ]
     },
     "execution_count": 36,
     "metadata": {},
     "output_type": "execute_result"
    }
   ],
   "source": [
    "# Train\n",
    "U_WRF_9km_down = hf.downscale_image(U_WRF_9km_train, 3)\n",
    "V_WRF_9km_down = hf.downscale_image(V_WRF_9km_train, 3)\n",
    "\n",
    "U_NCEP_down = hf.downscale_image(U_NCEP_near, 6)\n",
    "V_NCEP_down = hf.downscale_image(V_NCEP_near, 6)\n",
    "\n",
    "\n",
    "# Test\n",
    "U_NCEP_test_down = hf.downscale_image(U_NCEP_test_near, 6)\n",
    "V_NCEP_test_down = hf.downscale_image(V_NCEP_test_near, 6)\n",
    "\n",
    "U_WRF_9km_down.shape, U_NCEP_down.shape, U_NCEP_test_down.shape"
   ]
  },
  {
   "cell_type": "markdown",
   "id": "3db537eb-ae61-4f23-bdc2-2a9f15848a94",
   "metadata": {
    "tags": []
   },
   "source": [
    "### Writing data to .npy for analysis"
   ]
  },
  {
   "cell_type": "markdown",
   "id": "faa0370e-95c1-47ea-b4b9-2ec478cccebb",
   "metadata": {},
   "source": [
    "We should save the data to numpy arrays so we can read them later in analysis scripts."
   ]
  },
  {
   "cell_type": "code",
   "execution_count": 37,
   "id": "fe3faede-5642-4b7f-8a27-585bfa083ffa",
   "metadata": {},
   "outputs": [],
   "source": [
    "# TRAIN\n",
    "\n",
    "# WRF 3km\n",
    "\n",
    "U_WRF_3km = U_WRF_3km[:, 0:30, 0:30]\n",
    "V_WRF_3km = V_WRF_3km[:, 0:30, 0:30]\n",
    "\n",
    "np.save('F:/Master_Thesis/Data/Analysis_More_Time/U_WRF_3km.npy', U_WRF_3km)\n",
    "np.save('F:/Master_Thesis/Data/Analysis_More_Time/V_WRF_3km.npy', V_WRF_3km)\n",
    "\n",
    "# WRF 9km\n",
    "\n",
    "np.save('F:/Master_Thesis/Data/Analysis_More_Time/U_WRF_9km.npy', U_WRF_9km_train)\n",
    "np.save('F:/Master_Thesis/Data/Analysis_More_Time/V_WRF_9km.npy', V_WRF_9km_train)\n",
    "\n",
    "# NCEP native\n",
    "\n",
    "np.save('F:/Master_Thesis/Data/Analysis_More_Time/U_NCEP_near.npy', U_NCEP_near)\n",
    "np.save('F:/Master_Thesis/Data/Analysis_More_Time/V_NCEP_near.npy', V_NCEP_near)\n",
    "\n",
    "# NCEP down\n",
    "\n",
    "np.save('F:/Master_Thesis/Data/Analysis_More_Time/U_NCEP_down.npy', U_NCEP_down)\n",
    "np.save('F:/Master_Thesis/Data/Analysis_More_Time/V_NCEP_down.npy', V_NCEP_down)\n",
    "\n"
   ]
  },
  {
   "cell_type": "code",
   "execution_count": 39,
   "id": "17f6f092-535b-48db-bc75-4ffc6c64380b",
   "metadata": {},
   "outputs": [],
   "source": [
    "# TEST\n",
    "\n",
    "# WRF 3km\n",
    "\n",
    "U_WRF_3km_test = U_WRF_3km_test[:, 0:30, 0:30]\n",
    "V_WRF_3km_test = V_WRF_3km_test[:, 0:30, 0:30]\n",
    "\n",
    "np.save('F:/Master_Thesis/Data/Analysis_More_Time/U_WRF_3km_test.npy', U_WRF_3km_test)\n",
    "np.save('F:/Master_Thesis/Data/Analysis_More_Time/V_WRF_3km_test.npy', V_WRF_3km_test)\n",
    "\n",
    "# WRF 9km\n",
    "\n",
    "np.save('F:/Master_Thesis/Data/Analysis_More_Time/U_WRF_9km_test.npy', U_WRF_9km_test)\n",
    "np.save('F:/Master_Thesis/Data/Analysis_More_Time/V_WRF_9km_test.npy', V_WRF_9km_test)\n",
    "\n",
    "# NCEP\n",
    "\n",
    "# NCEP down\n",
    "\n",
    "np.save('F:/Master_Thesis/Data/Analysis_More_Time/U_NCEP_test_down.npy', U_NCEP_test_down)\n",
    "np.save('F:/Master_Thesis/Data/Analysis_More_Time/V_NCEP_test_down.npy', V_NCEP_test_down)"
   ]
  },
  {
   "cell_type": "markdown",
   "id": "1518af63-0a0e-4d94-aa40-792a1f2f5938",
   "metadata": {},
   "source": [
    "### Writing data to .tfrecord\n",
    "\n",
    "The current model is implemented with reading data from a .tfrecord which is an Tensorflow data format."
   ]
  },
  {
   "cell_type": "markdown",
   "id": "96b28476-30ee-4bb0-8195-9accd7ce39bd",
   "metadata": {},
   "source": [
    "#### Normal data sets"
   ]
  },
  {
   "cell_type": "code",
   "execution_count": 39,
   "id": "7c26c1d3-51fc-43e4-bf39-c7b1a07f8198",
   "metadata": {},
   "outputs": [
    {
     "data": {
      "text/plain": [
       "(11688, 10, 10, 1)"
      ]
     },
     "execution_count": 39,
     "metadata": {},
     "output_type": "execute_result"
    }
   ],
   "source": [
    "U_WRF_9km_down.shape"
   ]
  },
  {
   "cell_type": "code",
   "execution_count": 40,
   "id": "8dce6f32-b020-4be5-bb5a-cef993fadd0f",
   "metadata": {},
   "outputs": [
    {
     "name": "stdout",
     "output_type": "stream",
     "text": [
      "(11688, 10, 10, 2) (11688, 5, 5, 2) (2920, 5, 5, 2)\n"
     ]
    }
   ],
   "source": [
    "# Stacking wind data\n",
    "Wind_WRF_9km = np.squeeze(np.stack([U_WRF_9km_down, V_WRF_9km_down], axis = -1))\n",
    "Wind_NCEP = np.squeeze(np.stack([U_NCEP_down, V_NCEP_down], axis=-1))\n",
    "Wind_NCEP_test = np.squeeze(np.stack([U_NCEP_test_down, V_NCEP_test_down], axis=-1))\n",
    "    \n",
    "print(Wind_WRF_9km.shape, Wind_NCEP.shape, Wind_NCEP_test.shape)"
   ]
  },
  {
   "cell_type": "code",
   "execution_count": 51,
   "id": "79c4ad02-4a0d-4c0f-8961-fc9ee1ac9276",
   "metadata": {},
   "outputs": [],
   "source": [
    "# Train\n",
    "hf.generate_TFRecords(filename = 'F:/Master_Thesis/Data/TFRecords/More_Time/Wind_lr_mr.tfrecord',\n",
    "                   data_HR = Wind_WRF_9km,\n",
    "                   data_LR = Wind_NCEP,\n",
    "                   mode = 'train')\n",
    "\n",
    "# Test\n",
    "hf.generate_TFRecords(filename = 'F:/Master_Thesis/Data/TFRecords/More_Time/Wind_lr_mr_test.tfrecord',\n",
    "                   data_HR = None,\n",
    "                   data_LR = Wind_NCEP_test,\n",
    "                   mode = 'test')"
   ]
  },
  {
   "cell_type": "markdown",
   "id": "041f6c4d-49e0-4a27-92d3-0aafe644c5fd",
   "metadata": {},
   "source": [
    "#### Making MR - HR dataset"
   ]
  },
  {
   "cell_type": "markdown",
   "id": "3786434f-74f2-4a30-80fd-e72b5e807f0e",
   "metadata": {},
   "source": [
    "Stacking wind 3km components to a single array."
   ]
  },
  {
   "cell_type": "code",
   "execution_count": 41,
   "id": "090a8329-df60-4e60-a652-87eb2b603eb8",
   "metadata": {},
   "outputs": [
    {
     "name": "stdout",
     "output_type": "stream",
     "text": [
      "(11688, 30, 30, 2) (2920, 30, 30, 2)\n"
     ]
    }
   ],
   "source": [
    "# Stacking wind data\n",
    "Wind_WRF_3km = np.squeeze(np.stack([U_WRF_3km, V_WRF_3km], axis = -1))\n",
    "Wind_WRF_3km_test = np.squeeze(np.stack([U_WRF_3km_test, V_WRF_3km_test], axis = -1))\n",
    "\n",
    "\n",
    "\n",
    "print(Wind_WRF_3km.shape, Wind_WRF_3km_test.shape)"
   ]
  },
  {
   "cell_type": "code",
   "execution_count": 42,
   "id": "6f68c7b4-278b-4e9d-877e-50e016a570df",
   "metadata": {},
   "outputs": [
    {
     "data": {
      "text/plain": [
       "((11688, 10, 10, 2), (2920, 10, 10, 2))"
      ]
     },
     "execution_count": 42,
     "metadata": {},
     "output_type": "execute_result"
    }
   ],
   "source": [
    "# wind\n",
    "Wind_mr = np.load('F:/Master_Thesis/Data/SR_data/More_Time/wind/LR_MR/dataSR.npy')      \n",
    "Wind_mr_test = np.load('F:/Master_Thesis/Data/SR_data/More_Time/wind/LR_MR/test/dataSR.npy')\n",
    "\n",
    "Wind_mr.shape, Wind_mr_test.shape"
   ]
  },
  {
   "cell_type": "markdown",
   "id": "87669199-47ca-46b1-a73f-7338be498018",
   "metadata": {},
   "source": [
    "Writing the generated MR and the 3km data to a .tfrecord dataset."
   ]
  },
  {
   "cell_type": "code",
   "execution_count": 43,
   "id": "e96c57b3-4d9f-4075-9aab-53e3dd9528b8",
   "metadata": {},
   "outputs": [],
   "source": [
    "# Train\n",
    "hf.generate_TFRecords(filename = 'F:/Master_Thesis/Data/TFRecords/More_Time/Wind_mr_hr.tfrecord',\n",
    "                   data_HR = Wind_WRF_3km,\n",
    "                   data_LR = Wind_mr,\n",
    "                   mode = 'train')\n",
    "\n",
    "# Test\n",
    "hf.generate_TFRecords(filename = 'F:/Master_Thesis/Data/TFRecords/More_Time/Wind_mr_hr_test.tfrecord',\n",
    "                   data_HR = None,\n",
    "                   data_LR = Wind_mr_test,\n",
    "                   mode = 'test')"
   ]
  }
 ],
 "metadata": {
  "kernelspec": {
   "display_name": "Python 3 (ipykernel)",
   "language": "python",
   "name": "python3"
  },
  "language_info": {
   "codemirror_mode": {
    "name": "ipython",
    "version": 3
   },
   "file_extension": ".py",
   "mimetype": "text/x-python",
   "name": "python",
   "nbconvert_exporter": "python",
   "pygments_lexer": "ipython3",
   "version": "3.9.7"
  }
 },
 "nbformat": 4,
 "nbformat_minor": 5
}
