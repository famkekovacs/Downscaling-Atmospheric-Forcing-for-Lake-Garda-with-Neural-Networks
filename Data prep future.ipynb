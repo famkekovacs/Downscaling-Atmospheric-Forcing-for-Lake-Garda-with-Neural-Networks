{
 "cells": [
  {
   "cell_type": "markdown",
   "id": "6f838078",
   "metadata": {},
   "source": [
    "# Data prep future\n",
    "This is a notebook to read in raw datasets and transform them into datasets for a neural network. <br>\n",
    "Steps done:<br>\n",
    "\n",
    "    - Interpolating ECEarth to WRF 4km grid\n",
    "    - Coarsening ECEarth to an ... km grid from the 4 km grid\n",
    "    - Coarsening NCEP to an 18km grid from the 3km grid\n",
    "    - Writing data to .tfrecord files"
   ]
  },
  {
   "cell_type": "code",
   "execution_count": 1,
   "id": "5cebcbb0",
   "metadata": {},
   "outputs": [
    {
     "name": "stdout",
     "output_type": "stream",
     "text": [
      "2.8.0\n",
      "True\n"
     ]
    }
   ],
   "source": [
    "# data\n",
    "import netCDF4 as nc\n",
    "import numpy as np\n",
    "\n",
    "import pandas as pd\n",
    "import scipy\n",
    "from scipy.interpolate import RegularGridInterpolator\n",
    "\n",
    "# models \n",
    "import tensorflow as tf\n",
    "print(tf.__version__)\n",
    "#tf.compat.v1.disable_eager_execution()\n",
    "#tf.disable_eager_execution()\n",
    "tf.compat.v1.enable_eager_execution()\n",
    "\n",
    "# must be True\n",
    "print(tf.executing_eagerly())\n",
    "\n",
    "# plotting\n",
    "import matplotlib.pyplot as plt\n",
    "import seaborn as sns\n",
    "\n",
    "import os\n",
    "\n",
    "import helper_functions as hf\n",
    "from skimage.metrics import structural_similarity as ssim\n",
    "\n",
    "import importlib as imp"
   ]
  },
  {
   "cell_type": "markdown",
   "id": "3147c80c",
   "metadata": {},
   "source": [
    "Module helper_functions contains self-made and are kept there to make this document more readable. To reload the module after changes to any of its functions use the imp.reload(hf) function below."
   ]
  },
  {
   "cell_type": "code",
   "execution_count": 2,
   "id": "aa2f7b1b",
   "metadata": {},
   "outputs": [
    {
     "data": {
      "text/plain": [
       "<module 'helper_functions' from 'E:\\\\Universiteit\\\\Jaar_6\\\\Master_Thesis_Part_2\\\\Sebastian_modified_software\\\\helper_functions.py'>"
      ]
     },
     "execution_count": 2,
     "metadata": {},
     "output_type": "execute_result"
    }
   ],
   "source": [
    "imp.reload(hf)"
   ]
  },
  {
   "cell_type": "markdown",
   "id": "958b6408",
   "metadata": {},
   "source": [
    "### Reading in the datasets"
   ]
  },
  {
   "cell_type": "markdown",
   "id": "436a93f3",
   "metadata": {},
   "source": [
    "#### WRF Future test data 2041"
   ]
  },
  {
   "cell_type": "code",
   "execution_count": 3,
   "id": "e9f852a2",
   "metadata": {},
   "outputs": [
    {
     "name": "stdout",
     "output_type": "stream",
     "text": [
      "(2920, 17, 11) (2920, 17, 11) (2920, 17, 11)\n"
     ]
    },
    {
     "data": {
      "text/plain": [
       "<matplotlib.image.AxesImage at 0x17b8a1150d0>"
      ]
     },
     "execution_count": 3,
     "metadata": {},
     "output_type": "execute_result"
    },
    {
     "data": {
      "image/png": "[encoded data removed]",
      "text/plain": [
       "<Figure size 432x288 with 1 Axes>"
      ]
     },
     "metadata": {
      "needs_background": "light"
     },
     "output_type": "display_data"
    }
   ],
   "source": [
    "ds_WRF2041 = nc.Dataset('F:/Master_Thesis/Data/WRF data/wrf_2041_4km_3h.nc')\n",
    "\n",
    "#variables\n",
    "T_WRF_4km_2041 = np.array(ds_WRF2041['T2'])\n",
    "U_WRF_4km_2041 = np.array(ds_WRF2041['U10'])\n",
    "V_WRF_4km_2041 = np.array(ds_WRF2041['V10'])\n",
    "\n",
    "print(T_WRF_4km_2041.shape, U_WRF_4km_2041.shape, V_WRF_4km_2041.shape)\n",
    "plt.imshow(T_WRF_4km_2041[0,:,:])\n"
   ]
  },
  {
   "cell_type": "code",
   "execution_count": 4,
   "id": "d133d4be",
   "metadata": {},
   "outputs": [
    {
     "name": "stdout",
     "output_type": "stream",
     "text": [
      "(31, 31)\n",
      "(2920, 30, 30)\n",
      "(2920, 30, 30)\n",
      "(2920, 31, 26)\n"
     ]
    }
   ],
   "source": [
    "c5 = nc.Dataset('F:/Master_Thesis/Data/WRF data/More_time_runs/LAT_Garda_d02_part1.nc')\n",
    "c6 = nc.Dataset('F:/Master_Thesis/Data/WRF data/More_time_runs/LON_Garda_d02_part1.nc')\n",
    "\n",
    "c7 = nc.Dataset('F:/Master_Thesis/Data/WRF data/More_time_runs/LAT_Garda_d02_part2.nc')\n",
    "c8 = nc.Dataset('F:/Master_Thesis/Data/WRF data/More_time_runs/LON_Garda_d02_part2.nc')\n",
    "\n",
    "lat_WRF_3km_part1 = np.array(c5['XLAT'][0])[:,0:96]\n",
    "lon_WRF_3km_part1 = np.array(c6['XLONG'][0])[:,0:96]\n",
    "\n",
    "lat_WRF_3km_part2 = np.array(c7['XLAT'][0])\n",
    "lon_WRF_3km_part2 = np.array(c8['XLONG'][0])\n",
    "\n",
    "print(lon_WRF_3km_part1.shape)\n",
    "\n",
    "# data\n",
    "\n",
    "ds1 = nc.Dataset('F:/Master_Thesis/Data/WRF data/More_time_runs/T2_Garda_d02_part1.nc')\n",
    "ds2 = nc.Dataset('F:/Master_Thesis/Data/WRF data/More_time_runs/T2_Garda_d02_part2.nc')\n",
    "ds3 = nc.Dataset('F:/Master_Thesis/Data/WRF data/More_time_runs/U10_Garda_d02_part1.nc')\n",
    "ds4 = nc.Dataset('F:/Master_Thesis/Data/WRF data/More_time_runs/U10_Garda_d02_part2.nc')\n",
    "ds5 = nc.Dataset('F:/Master_Thesis/Data/WRF data/More_time_runs/V10_Garda_d02_part1.nc')\n",
    "ds6 = nc.Dataset('F:/Master_Thesis/Data/WRF data/More_time_runs/V10_Garda_d02_part2.nc')\n",
    "\n",
    "# u-component of wind\n",
    "U_WRF_3km_part1 = np.array(ds3['U10'])[:,:,0:96]\n",
    "U_WRF_3km_part2 = np.array(ds4['U10'])\n",
    "\n",
    "# v-component of wind\n",
    "V_WRF_3km_part1 = np.array(ds5['V10'])[:,:,0:96]\n",
    "V_WRF_3km_part2 = np.array(ds6['V10'])\n",
    "\n",
    "U_WRF_3km_part1.shape, U_WRF_3km_part2.shape\n",
    "\n",
    "#temp\n",
    "T_WRF_3km_part1 = np.array(ds1['T2'])[:,:,0:96]\n",
    "T_WRF_3km_part2 = np.array(ds2['T2'])\n",
    "\n",
    "T_WRF_3km_part1.shape, T_WRF_3km_part2.shape\n",
    "\n",
    "#Test 2021\n",
    "#3km\n",
    "T_WRF_3km_2021 = T_WRF_3km_part2[10144:13064,:,:] #other indices because part 2 of d02 is not the same as d01\n",
    "U_WRF_3km_2021 = U_WRF_3km_part2[10144:13064,:,:] #other indices because part 2 of d02 is not the same as d01\n",
    "V_WRF_3km_2021 = V_WRF_3km_part2[10144:13064,:,:]\n",
    "\n",
    "T_WRF_3km_2021 = T_WRF_3km_2021[:, 0:30, 0:30]\n",
    "U_WRF_3km_2021 = T_WRF_3km_2021[:, 0:30, 0:30]\n",
    "V_WRF_3km_2021 = T_WRF_3km_2021[:, 0:30, 0:30]\n",
    "\n",
    "print(U_WRF_3km_2021.shape)\n",
    "print(T_WRF_3km_2021.shape)\n",
    "\n",
    "\n",
    "#9km temp\n",
    "ds7 = nc.Dataset('F:/Master_Thesis/Data/WRF data/More_time_runs/T2_Garda_d01_part2.nc')\n",
    "\n",
    "T_WRF_9km_part2 = np.array(ds7['T2'])\n",
    "T_WRF_9km_2021 = T_WRF_9km_part2[10136:13056,:,:] #8 indices to much, because 5 years should have 14608 (1 year = 2920 indices)\n",
    "print(T_WRF_9km_2021.shape)"
   ]
  },
  {
   "cell_type": "code",
   "execution_count": 6,
   "id": "9498ff45",
   "metadata": {},
   "outputs": [
    {
     "name": "stdout",
     "output_type": "stream",
     "text": [
      "[[45.419144 45.419605 45.42004  45.42046  45.420853 45.421223 45.421574\n",
      "  45.421894 45.422203 45.422478 45.422737]\n",
      " [45.455135 45.4556   45.45604  45.456467 45.456852 45.457226 45.457573\n",
      "  45.457897 45.458195 45.45847  45.45873 ]\n",
      " [45.491135 45.4916   45.492035 45.492455 45.492847 45.493217 45.493572\n",
      "  45.493893 45.494194 45.494476 45.494736]\n",
      " [45.527126 45.52759  45.52803  45.528454 45.528843 45.529213 45.529564\n",
      "  45.529896 45.53019  45.53047  45.53073 ]\n",
      " [45.56312  45.56359  45.56403  45.564445 45.564835 45.56522  45.565563\n",
      "  45.565887 45.566193 45.566475 45.566723]\n",
      " [45.599113 45.599583 45.60003  45.60045  45.60084  45.60121  45.60156\n",
      "  45.601883 45.60219  45.60247  45.602726]\n",
      " [45.635113 45.635582 45.636013 45.636444 45.636837 45.637207 45.637554\n",
      "  45.63788  45.638184 45.638462 45.638725]\n",
      " [45.671112 45.671574 45.672016 45.672436 45.672832 45.673206 45.67356\n",
      "  45.67388  45.674187 45.674465 45.674725]\n",
      " [45.707108 45.70757  45.708015 45.70844  45.708828 45.709206 45.709553\n",
      "  45.70989  45.710182 45.710464 45.710724]\n",
      " [45.743103 45.743572 45.74402  45.74444  45.744835 45.745205 45.745556\n",
      "  45.74588  45.746185 45.746468 45.74672 ]\n",
      " [45.7791   45.779568 45.780014 45.78043  45.78083  45.781204 45.78155\n",
      "  45.78188  45.782185 45.782463 45.78272 ]\n",
      " [45.815105 45.815567 45.81601  45.816437 45.816833 45.817207 45.81756\n",
      "  45.817883 45.818184 45.818462 45.818718]\n",
      " [45.8511   45.851562 45.852013 45.852425 45.852825 45.853203 45.85355\n",
      "  45.85388  45.854187 45.854465 45.854717]\n",
      " [45.887093 45.88756  45.88801  45.888424 45.88882  45.8892   45.88954\n",
      "  45.889877 45.89017  45.89046  45.890713]\n",
      " [45.92309  45.92356  45.924004 45.924423 45.92482  45.925194 45.925545\n",
      "  45.925873 45.92618  45.926456 45.92672 ]\n",
      " [45.959084 45.959557 45.960003 45.96042  45.96082  45.961205 45.96155\n",
      "  45.961872 45.96218  45.96246  45.96272 ]\n",
      " [45.995087 45.99555  45.996002 45.996426 45.996822 45.9972   45.997543\n",
      "  45.99788  45.99818  45.99846  45.998722]]\n"
     ]
    }
   ],
   "source": [
    "#interpolation\n",
    "lon_WRF_4km_2041 = np.array(ds_WRF2041['XLONG'])\n",
    "lat_WRF_4km_2041 = np.array(ds_WRF2041['XLAT'])\n",
    "                            \n",
    "print(lat_WRF_4km_2041)"
   ]
  },
  {
   "cell_type": "markdown",
   "id": "08873df3",
   "metadata": {},
   "source": [
    "#### EC Earth 2041"
   ]
  },
  {
   "cell_type": "code",
   "execution_count": 6,
   "id": "737de452",
   "metadata": {},
   "outputs": [
    {
     "name": "stdout",
     "output_type": "stream",
     "text": [
      "(2920, 17, 27) (2920, 17, 27) (2920, 17, 27)\n",
      "(2920, 17, 25) (2920, 17, 25) (2920, 17, 25)\n"
     ]
    },
    {
     "data": {
      "image/png": "[encoded data removed]",
      "text/plain": [
       "<Figure size 432x288 with 1 Axes>"
      ]
     },
     "metadata": {
      "needs_background": "light"
     },
     "output_type": "display_data"
    }
   ],
   "source": [
    "ds_ECEarth_2041 = nc.Dataset('F:/Master_Thesis/Data/EC Earth/2041_UVT/UVT_EcEarth_2041_25km_3h.nc')\n",
    "\n",
    "#variables\n",
    "T_ECEarth_2041_25km = np.array(ds_ECEarth_2041['T2M'])\n",
    "U_ECEarth_2041_25km = np.array(ds_ECEarth_2041['U10M'])\n",
    "V_ECEarth_2041_25km = np.array(ds_ECEarth_2041['V10M'])\n",
    "\n",
    "print(T_ECEarth_2041_25km.shape, V_ECEarth_2041_25km.shape, V_ECEarth_2041_25km.shape)\n",
    "#print(T_ECEarth_2041_25km[0,:,:])\n",
    "plt.imshow(T_ECEarth_2041_25km[0,:,:])\n",
    "\n",
    "T_ECEarth_2041_25km = T_ECEarth_2041_25km[:,:,1:26]\n",
    "U_ECEarth_2041_25km = U_ECEarth_2041_25km[:,:,1:26]\n",
    "V_ECEarth_2041_25km = V_ECEarth_2041_25km[:,:,1:26]\n",
    "\n",
    "print(T_ECEarth_2041_25km.shape, V_ECEarth_2041_25km.shape, V_ECEarth_2041_25km.shape)"
   ]
  },
  {
   "cell_type": "markdown",
   "id": "7e5e05c4",
   "metadata": {},
   "source": [
    "#### Time\n",
    "\n",
    "For time data I used a season index using the following short algorithm. Time and elevation data was not used in the final model since to use any metadata in this model one would need to stack the data.  Stacking different variables does require min-max normalisation to have the different variables on the same scale. But this resulted in low performance since the final produced superresolutions are on a different scale."
   ]
  },
  {
   "cell_type": "code",
   "execution_count": 7,
   "id": "ce07288c",
   "metadata": {},
   "outputs": [
    {
     "data": {
      "image/png": "[encoded data removed]",
      "text/plain": [
       "<Figure size 432x288 with 1 Axes>"
      ]
     },
     "metadata": {
      "needs_background": "light"
     },
     "output_type": "display_data"
    }
   ],
   "source": [
    "import math as m\n",
    "\n",
    "time = []\n",
    "\n",
    "for t in range(4128):\n",
    "    time.append(m.sin(m.pi*t/2920)**2)\n",
    "    \n",
    "plt.plot(time)\n",
    "plt.show()"
   ]
  },
  {
   "cell_type": "code",
   "execution_count": 8,
   "id": "ec8fd328",
   "metadata": {},
   "outputs": [
    {
     "data": {
      "text/plain": [
       "(4128, 96, 96)"
      ]
     },
     "execution_count": 8,
     "metadata": {},
     "output_type": "execute_result"
    }
   ],
   "source": [
    "time_arr = np.zeros((4128,96,96),dtype='float32')\n",
    "for t in range(time_arr.shape[0]):\n",
    "    time_arr[t,:,:] = time[t]\n",
    "\n",
    "time_arr.shape"
   ]
  },
  {
   "cell_type": "markdown",
   "id": "fef2178e",
   "metadata": {},
   "source": [
    "### Interpolating to same extent\n",
    "\n",
    "This is done by changing longitude and latitude coordinates of the datasets to a cartesian grid and using nearest neighbor interpolation to get all data on the same grid (WRF 4km)."
   ]
  },
  {
   "cell_type": "markdown",
   "id": "79c90af0",
   "metadata": {},
   "source": [
    "#### Test future 2041\n",
    "WRF"
   ]
  },
  {
   "cell_type": "code",
   "execution_count": 9,
   "id": "7a6d8d60",
   "metadata": {},
   "outputs": [],
   "source": [
    "# target cartesian coordinates\n",
    "xt, yt, zt = hf.lon_lat_to_cartesian(lon_WRF_3km_part1.flatten(), lat_WRF_3km_part1.flatten())"
   ]
  },
  {
   "cell_type": "markdown",
   "id": "768fab0b",
   "metadata": {},
   "source": [
    "EC Earth"
   ]
  },
  {
   "cell_type": "code",
   "execution_count": 10,
   "id": "26aded9a",
   "metadata": {},
   "outputs": [
    {
     "name": "stdout",
     "output_type": "stream",
     "text": [
      "[[ 8.325  8.55   8.775  9.     9.225  9.45   9.675  9.9   10.125 10.35\n",
      "  10.575 10.8   11.025 11.25  11.475 11.7   11.925 12.15  12.375 12.6\n",
      "  12.825 13.05  13.275 13.5   13.725]\n",
      " [ 8.325  8.55   8.775  9.     9.225  9.45   9.675  9.9   10.125 10.35\n",
      "  10.575 10.8   11.025 11.25  11.475 11.7   11.925 12.15  12.375 12.6\n",
      "  12.825 13.05  13.275 13.5   13.725]\n",
      " [ 8.325  8.55   8.775  9.     9.225  9.45   9.675  9.9   10.125 10.35\n",
      "  10.575 10.8   11.025 11.25  11.475 11.7   11.925 12.15  12.375 12.6\n",
      "  12.825 13.05  13.275 13.5   13.725]\n",
      " [ 8.325  8.55   8.775  9.     9.225  9.45   9.675  9.9   10.125 10.35\n",
      "  10.575 10.8   11.025 11.25  11.475 11.7   11.925 12.15  12.375 12.6\n",
      "  12.825 13.05  13.275 13.5   13.725]\n",
      " [ 8.325  8.55   8.775  9.     9.225  9.45   9.675  9.9   10.125 10.35\n",
      "  10.575 10.8   11.025 11.25  11.475 11.7   11.925 12.15  12.375 12.6\n",
      "  12.825 13.05  13.275 13.5   13.725]\n",
      " [ 8.325  8.55   8.775  9.     9.225  9.45   9.675  9.9   10.125 10.35\n",
      "  10.575 10.8   11.025 11.25  11.475 11.7   11.925 12.15  12.375 12.6\n",
      "  12.825 13.05  13.275 13.5   13.725]\n",
      " [ 8.325  8.55   8.775  9.     9.225  9.45   9.675  9.9   10.125 10.35\n",
      "  10.575 10.8   11.025 11.25  11.475 11.7   11.925 12.15  12.375 12.6\n",
      "  12.825 13.05  13.275 13.5   13.725]\n",
      " [ 8.325  8.55   8.775  9.     9.225  9.45   9.675  9.9   10.125 10.35\n",
      "  10.575 10.8   11.025 11.25  11.475 11.7   11.925 12.15  12.375 12.6\n",
      "  12.825 13.05  13.275 13.5   13.725]\n",
      " [ 8.325  8.55   8.775  9.     9.225  9.45   9.675  9.9   10.125 10.35\n",
      "  10.575 10.8   11.025 11.25  11.475 11.7   11.925 12.15  12.375 12.6\n",
      "  12.825 13.05  13.275 13.5   13.725]\n",
      " [ 8.325  8.55   8.775  9.     9.225  9.45   9.675  9.9   10.125 10.35\n",
      "  10.575 10.8   11.025 11.25  11.475 11.7   11.925 12.15  12.375 12.6\n",
      "  12.825 13.05  13.275 13.5   13.725]\n",
      " [ 8.325  8.55   8.775  9.     9.225  9.45   9.675  9.9   10.125 10.35\n",
      "  10.575 10.8   11.025 11.25  11.475 11.7   11.925 12.15  12.375 12.6\n",
      "  12.825 13.05  13.275 13.5   13.725]\n",
      " [ 8.325  8.55   8.775  9.     9.225  9.45   9.675  9.9   10.125 10.35\n",
      "  10.575 10.8   11.025 11.25  11.475 11.7   11.925 12.15  12.375 12.6\n",
      "  12.825 13.05  13.275 13.5   13.725]\n",
      " [ 8.325  8.55   8.775  9.     9.225  9.45   9.675  9.9   10.125 10.35\n",
      "  10.575 10.8   11.025 11.25  11.475 11.7   11.925 12.15  12.375 12.6\n",
      "  12.825 13.05  13.275 13.5   13.725]\n",
      " [ 8.325  8.55   8.775  9.     9.225  9.45   9.675  9.9   10.125 10.35\n",
      "  10.575 10.8   11.025 11.25  11.475 11.7   11.925 12.15  12.375 12.6\n",
      "  12.825 13.05  13.275 13.5   13.725]\n",
      " [ 8.325  8.55   8.775  9.     9.225  9.45   9.675  9.9   10.125 10.35\n",
      "  10.575 10.8   11.025 11.25  11.475 11.7   11.925 12.15  12.375 12.6\n",
      "  12.825 13.05  13.275 13.5   13.725]\n",
      " [ 8.325  8.55   8.775  9.     9.225  9.45   9.675  9.9   10.125 10.35\n",
      "  10.575 10.8   11.025 11.25  11.475 11.7   11.925 12.15  12.375 12.6\n",
      "  12.825 13.05  13.275 13.5   13.725]\n",
      " [ 8.325  8.55   8.775  9.     9.225  9.45   9.675  9.9   10.125 10.35\n",
      "  10.575 10.8   11.025 11.25  11.475 11.7   11.925 12.15  12.375 12.6\n",
      "  12.825 13.05  13.275 13.5   13.725]]\n",
      "(17, 25)\n"
     ]
    }
   ],
   "source": [
    "#EC Earth 25km\n",
    "\n",
    "#coordinates\n",
    "lon_ECEarth_25km_2041 = np.array(ds_ECEarth_2041['lon'])\n",
    "lat_ECEarth_25km_2041 = np.array(ds_ECEarth_2041['lat'])\n",
    "\n",
    "\n",
    "if(len(lat_ECEarth_25km_2041.shape)==1):\n",
    "    lon_ECEarth_25km_2041, lat_ECEarth_25km_2041 = np.meshgrid(lon_ECEarth_25km_2041, lat_ECEarth_25km_2041)\n",
    "    \n",
    "lon_ECEarth_25km_2041=lon_ECEarth_25km_2041[:,1:26]    \n",
    "lat_ECEarth_25km_2041=lat_ECEarth_25km_2041[:,1:26] \n",
    "\n",
    "print(lon_ECEarth_25km_2041)\n",
    "print(lon_ECEarth_25km_2041.shape)\n",
    "xs, ys, zs = hf.lon_lat_to_cartesian(lon_ECEarth_25km_2041.flatten(), lat_ECEarth_25km_2041.flatten())\n",
    "\n",
    "tree = hf.cKDTree(np.column_stack((xs, ys, zs)))"
   ]
  },
  {
   "cell_type": "code",
   "execution_count": 11,
   "id": "00f01e34",
   "metadata": {},
   "outputs": [
    {
     "data": {
      "text/plain": [
       "(17, 25)"
      ]
     },
     "execution_count": 11,
     "metadata": {},
     "output_type": "execute_result"
    }
   ],
   "source": [
    "lat_ECEarth_25km_2041.shape"
   ]
  },
  {
   "cell_type": "code",
   "execution_count": 12,
   "id": "4a589afc",
   "metadata": {},
   "outputs": [
    {
     "data": {
      "text/plain": [
       "(2920, 31, 31)"
      ]
     },
     "execution_count": 12,
     "metadata": {},
     "output_type": "execute_result"
    }
   ],
   "source": [
    "# nearest neighbour\n",
    "d, inds = tree.query(np.column_stack((xt, yt, zt)), k = 1)\n",
    "\n",
    "T_ECEarth_near = hf.transform_extent(T_ECEarth_2041_25km, inds, lat_WRF_3km_part1.shape)[0:T_WRF_9km_2021.shape[0]]\n",
    "U_ECEarth_near = hf.transform_extent(U_ECEarth_2041_25km, inds, lat_WRF_3km_part1.shape)[0:T_WRF_9km_2021.shape[0]]\n",
    "V_ECEarth_near = hf.transform_extent(V_ECEarth_2041_25km, inds, lat_WRF_3km_part1.shape)[0:T_WRF_9km_2021.shape[0]]\n",
    "\n",
    "np.shape(T_ECEarth_near)"
   ]
  },
  {
   "cell_type": "markdown",
   "id": "992db3cb",
   "metadata": {},
   "source": [
    "### Downscaling"
   ]
  },
  {
   "cell_type": "markdown",
   "id": "f3d0fb0a",
   "metadata": {},
   "source": [
    "Current model is doing downscaling by increasing the pixel count, so it wants a low pixel count image and increase the pixel count by an integer factor. For us the low resolution to medium resolution is 16x16 pixels to 32x32. And medium to high resolution is 32x32 to 96x96."
   ]
  },
  {
   "cell_type": "code",
   "execution_count": 13,
   "id": "1a0ea159",
   "metadata": {},
   "outputs": [],
   "source": [
    "#Future test\n",
    "\n",
    "T_ECEarth_down = hf.downscale_image(T_ECEarth_near, 6)\n",
    "U_ECEarth_down = hf.downscale_image(U_ECEarth_near, 6)\n",
    "V_ECEarth_down = hf.downscale_image(V_ECEarth_near, 6)"
   ]
  },
  {
   "cell_type": "code",
   "execution_count": 14,
   "id": "607be93b",
   "metadata": {},
   "outputs": [
    {
     "data": {
      "text/plain": [
       "((2920, 5, 5, 1), (2920, 5, 5, 1), (2920, 5, 5, 1))"
      ]
     },
     "execution_count": 14,
     "metadata": {},
     "output_type": "execute_result"
    }
   ],
   "source": [
    "T_ECEarth_down.shape, U_ECEarth_down.shape, V_ECEarth_down.shape"
   ]
  },
  {
   "cell_type": "markdown",
   "id": "9f208262",
   "metadata": {},
   "source": [
    "### Writing data to .npy for analysis"
   ]
  },
  {
   "cell_type": "code",
   "execution_count": 17,
   "id": "29aa627d",
   "metadata": {},
   "outputs": [],
   "source": [
    "# Furture test\n",
    "\n",
    "#WRF 4 km\n",
    "np.save('F:/Master_Thesis/Data/Analysis_More_Time/T_WRF_4km.npy', T_WRF_4km_2041)\n",
    "np.save('F:/Master_Thesis/Data/Analysis_More_Time/U_WRF_4km.npy', U_WRF_4km_2041)\n",
    "np.save('F:/Master_Thesis/Data/Analysis_More_Time/V_WRF_4km.npy', V_WRF_4km_2041)\n",
    "\n",
    "#NCEP down\n",
    "np.save('F:/Master_Thesis/Data/Analysis_More_Time/T_ECEarth_down.npy', T_ECEarth_down)\n",
    "np.save('F:/Master_Thesis/Data/Analysis_More_Time/U_ECEarth_down.npy', U_ECEarth_down)\n",
    "np.save('F:/Master_Thesis/Data/Analysis_More_Time/V_ECEarth_down.npy', V_ECEarth_down)\n",
    "\n",
    "np.save('F:/Master_Thesis/Data/Analysis_More_Time/T_ECEarth_near.npy', T_ECEarth_near)\n",
    "np.save('F:/Master_Thesis/Data/Analysis_More_Time/U_ECEarth_near.npy', U_ECEarth_near)\n",
    "np.save('F:/Master_Thesis/Data/Analysis_More_Time/V_ECEarth_near.npy', V_ECEarth_near)"
   ]
  },
  {
   "cell_type": "markdown",
   "id": "fd086c48",
   "metadata": {},
   "source": [
    "### Writing data to .tfrecord\n",
    "\n",
    "The current model is implemented with reading data from a .tfrecord which is an Tensorflow data format."
   ]
  },
  {
   "cell_type": "code",
   "execution_count": 23,
   "id": "6f29edde",
   "metadata": {},
   "outputs": [
    {
     "name": "stdout",
     "output_type": "stream",
     "text": [
      "(2920, 5, 5, 2) (2920, 5, 5, 1)\n"
     ]
    }
   ],
   "source": [
    "#stacking wind data\n",
    "Wind_ECEarth_down = np.squeeze(np.stack([U_ECEarth_down, V_ECEarth_down], axis=-1))\n",
    "    \n",
    "print(Wind_ECEarth.shape, T_ECEarth_down.shape)"
   ]
  },
  {
   "cell_type": "code",
   "execution_count": 24,
   "id": "09e5e0e4",
   "metadata": {},
   "outputs": [],
   "source": [
    "#Furture test\n",
    "\n",
    "#Temperature\n",
    "hf.generate_TFRecords(filename = 'F:/Master_Thesis/Data/TFRecords/Future/T_lr_mr_test_future.tfrecord',\n",
    "                   data_HR = None,\n",
    "                   data_LR = T_ECEarth_down,\n",
    "                   mode = 'test')\n",
    "\n",
    "#wind\n",
    "hf.generate_TFRecords(filename = 'F:/Master_Thesis/Data/TFRecords/Future/Wind_lr_mr_test_furture.tfrecord',\n",
    "                   data_HR = None,\n",
    "                   data_LR = Wind_ECEarth_down,\n",
    "                   mode = 'test')"
   ]
  },
  {
   "cell_type": "code",
   "execution_count": 22,
   "id": "b8770f85",
   "metadata": {},
   "outputs": [
    {
     "data": {
      "text/plain": [
       "(2920, 2)"
      ]
     },
     "execution_count": 22,
     "metadata": {},
     "output_type": "execute_result"
    }
   ],
   "source": [
    "Wind_ECEarth_down.shape"
   ]
  },
  {
   "cell_type": "markdown",
   "id": "08e6832a",
   "metadata": {},
   "source": [
    "#### Making MR-HR data set"
   ]
  },
  {
   "cell_type": "code",
   "execution_count": 3,
   "id": "94a52ccb",
   "metadata": {},
   "outputs": [
    {
     "name": "stdout",
     "output_type": "stream",
     "text": [
      "(2920, 10, 10, 1)\n"
     ]
    },
    {
     "data": {
      "text/plain": [
       "(2920, 10, 10, 2)"
      ]
     },
     "execution_count": 3,
     "metadata": {},
     "output_type": "execute_result"
    }
   ],
   "source": [
    "# getting the generated MR data\n",
    "\n",
    "# temperature     \n",
    "T_mr_2041 = np.load('F:/Master_Thesis/Data/SR_data/More_Time/temperature/LR_MR/Future/dataSR.npy')\n",
    "print(T_mr_2041.shape)\n",
    "\n",
    "# wind     \n",
    "Wind_mr_2041 = np.load('F:/Master_Thesis/Data/SR_data/More_Time/wind/LR_MR/Future/dataSR.npy')\n",
    "\n",
    "Wind_mr_2041.shape"
   ]
  },
  {
   "cell_type": "code",
   "execution_count": 5,
   "id": "3780b369",
   "metadata": {},
   "outputs": [],
   "source": [
    "# Future\n",
    "\n",
    "# temperature\n",
    "hf.generate_TFRecords(filename = 'F:/Master_Thesis/Data/TFRecords/Future/T_mr_hr_test_future.tfrecord',\n",
    "                   data_HR = None,\n",
    "                   data_LR = T_mr_2041,\n",
    "                   mode = 'test')\n",
    "\n",
    "#wind \n",
    "hf.generate_TFRecords(filename = 'F:/Master_Thesis/Data/TFRecords/Future/Wind_mr_hr_test_future.tfrecord',\n",
    "                   data_HR = None,\n",
    "                   data_LR = Wind_mr_2041,\n",
    "                   mode = 'test')"
   ]
  }
 ],
 "metadata": {
  "kernelspec": {
   "display_name": "Python 3 (ipykernel)",
   "language": "python",
   "name": "python3"
  },
  "language_info": {
   "codemirror_mode": {
    "name": "ipython",
    "version": 3
   },
   "file_extension": ".py",
   "mimetype": "text/x-python",
   "name": "python",
   "nbconvert_exporter": "python",
   "pygments_lexer": "ipython3",
   "version": "3.9.7"
  }
 },
 "nbformat": 4,
 "nbformat_minor": 5
}
